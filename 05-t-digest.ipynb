{
 "cells": [
  {
   "cell_type": "code",
   "execution_count": null,
   "metadata": {},
   "outputs": [],
   "source": []
  },
  {
   "cell_type": "code",
   "execution_count": null,
   "metadata": {},
   "outputs": [],
   "source": [
    "import numpy as np\n",
    "\n",
    "class TDigest(object):\n",
    "    def __init__(self, compression, max_discrete, size):\n",
    "        self.compression = compression\n",
    "        self.max_discrete = max_discrete\n",
    "        self.ftre = np.zeros(1 + size)\n",
    "        self.centers = np.zeros(size)\n",
    "        self.masses = np.zeros(size)\n",
    "        self.nclusters = 0\n",
    "        self.mass = 0.0\n",
    "    \n",
    "    def update(self, x, w=1.0):\n",
    "        update_internal(x, w)\n",
    "        if (self.nclusters > self.max_discrete and self.nclusters > self.R()):\n",
    "            self.recluster()\n",
    "    \n",
    "    "
   ]
  }
 ],
 "metadata": {
  "kernelspec": {
   "display_name": "Python 3.6",
   "language": "python",
   "name": "jupyter"
  },
  "language_info": {
   "codemirror_mode": {
    "name": "ipython",
    "version": 3
   },
   "file_extension": ".py",
   "mimetype": "text/x-python",
   "name": "python",
   "nbconvert_exporter": "python",
   "pygments_lexer": "ipython3",
   "version": "3.6.5"
  }
 },
 "nbformat": 4,
 "nbformat_minor": 2
}
